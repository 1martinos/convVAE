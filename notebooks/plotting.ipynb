{
 "cells": [
  {
   "cell_type": "code",
   "execution_count": 151,
   "id": "quiet-willow",
   "metadata": {},
   "outputs": [],
   "source": [
    "import os\n",
    "import pickle\n",
    "import pandas as pd\n",
    "import numpy as np\n",
    "import matplotlib.pyplot as plt\n",
    "from os.path import join as pjoin\n",
    "from pprint import pprint as pp\n",
    "import torch\n",
    "from tqdm import tqdm\n",
    "models_dir = \"../models\"\n",
    "model_dirs = [models_dir + \"/\" + x for x in os.listdir(models_dir)]"
   ]
  },
  {
   "cell_type": "code",
   "execution_count": 203,
   "id": "central-break",
   "metadata": {
    "tags": []
   },
   "outputs": [],
   "source": [
    "def ifnotdir(dir_name):\n",
    "    if not os.path.isdir(dir_name):\n",
    "        os.makedirs(dir_name)\n",
    "\n",
    "\n",
    "def loss_stats_parser(loss_file,sum_over_batches=True,test_file=None):\n",
    "    with open(loss_file,\"r\") as f:\n",
    "        txt_ls = [l.strip() for l in f.readlines()]\n",
    "    ls_dict = {}\n",
    "    keys = []\n",
    "    string = txt_ls[0].split()\n",
    "    for i in range(0,9,2):\n",
    "        ls_dict[string[i][:-1]] = []\n",
    "        keys.append(string[i])\n",
    "    for line in txt_ls:\n",
    "        line = line.split()\n",
    "        for i,k in zip(range(1,10,2),keys):\n",
    "            k = k[:-1]\n",
    "            num = line[i]\n",
    "            if k in [\"EPOCH\",\"BATCH\"]:\n",
    "                num = int(num)\n",
    "            else:\n",
    "                num = np.float(num)\n",
    "            ls_dict[k].append(num)\n",
    "    if sum_over_batches:\n",
    "        df = pd.DataFrame.from_dict(ls_dict)\n",
    "        new_df = {}\n",
    "        new_df[\"epoch\"] = []\n",
    "        new_df[\"bce\"] = []\n",
    "        new_df[\"kld\"] = []\n",
    "        new_df[\"eff\"] = []\n",
    "        for i in range(max(df[\"EPOCH\"])+1):\n",
    "            new_df[\"epoch\"].append(i)\n",
    "            locs = df.loc[df[\"EPOCH\"] == i]\n",
    "            new_df[\"bce\"].append(np.sum(locs[\"BCE\"]))\n",
    "            new_df[\"kld\"].append(np.sum(locs[\"KLD\"]))\n",
    "            new_df[\"eff\"].append(np.sum(locs[\"EFF_LOSS\"]))\n",
    "        if test_file:\n",
    "            new_df[\"test\"] = test_loss_parser(test_file)[\"test_loss\"]\n",
    "        new_df = pd.DataFrame.from_dict(new_df)\n",
    "        return new_df\n",
    "    return ls_dict\n",
    "            \n",
    "def test_loss_parser(file):\n",
    "    with open(file,\"r\") as f:\n",
    "        txt = [l.strip() for l in f.readlines()]\n",
    "    txt = np.array([t.split() for t in txt])\n",
    "    data = {}\n",
    "    data[\"epochs\"] = txt[:,0]\n",
    "    data[\"test_loss\"] = txt[:,1].astype(np.float)\n",
    "    return data\n",
    "\n",
    "# txt\n",
    "# txt_ls"
   ]
  },
  {
   "cell_type": "code",
   "execution_count": 205,
   "id": "decimal-cloud",
   "metadata": {},
   "outputs": [
    {
     "name": "stderr",
     "output_type": "stream",
     "text": [
      "  0%|          | 0/50 [00:00<?, ?it/s]"
     ]
    },
    {
     "name": "stdout",
     "output_type": "stream",
     "text": [
      "50epochs-15latent\n"
     ]
    },
    {
     "name": "stderr",
     "output_type": "stream",
     "text": [
      "100%|██████████| 50/50 [00:05<00:00,  8.66it/s]\n"
     ]
    },
    {
     "name": "stdout",
     "output_type": "stream",
     "text": [
      "100epochs-15latent\n"
     ]
    },
    {
     "name": "stderr",
     "output_type": "stream",
     "text": [
      "100%|██████████| 100/100 [00:11<00:00,  8.55it/s]\n"
     ]
    },
    {
     "name": "stdout",
     "output_type": "stream",
     "text": [
      "100epochs-3latent\n"
     ]
    },
    {
     "name": "stderr",
     "output_type": "stream",
     "text": [
      "100%|██████████| 100/100 [00:11<00:00,  8.61it/s]\n"
     ]
    },
    {
     "name": "stdout",
     "output_type": "stream",
     "text": [
      "150epochs-3latent\n"
     ]
    },
    {
     "name": "stderr",
     "output_type": "stream",
     "text": [
      "100%|██████████| 150/150 [00:22<00:00,  6.65it/s]\n",
      "  0%|          | 0/50 [00:00<?, ?it/s]"
     ]
    },
    {
     "name": "stdout",
     "output_type": "stream",
     "text": [
      "50epochs-5latent\n"
     ]
    },
    {
     "name": "stderr",
     "output_type": "stream",
     "text": [
      "100%|██████████| 50/50 [00:05<00:00,  8.58it/s]\n"
     ]
    },
    {
     "name": "stdout",
     "output_type": "stream",
     "text": [
      "100epochs-10latent\n"
     ]
    },
    {
     "name": "stderr",
     "output_type": "stream",
     "text": [
      "100%|██████████| 100/100 [00:12<00:00,  8.17it/s]\n",
      "  0%|          | 0/50 [00:00<?, ?it/s]"
     ]
    },
    {
     "name": "stdout",
     "output_type": "stream",
     "text": [
      "50epochs-3latent\n"
     ]
    },
    {
     "name": "stderr",
     "output_type": "stream",
     "text": [
      "100%|██████████| 50/50 [00:05<00:00,  8.68it/s]\n"
     ]
    },
    {
     "name": "stdout",
     "output_type": "stream",
     "text": [
      "150epochs-10latent\n"
     ]
    },
    {
     "name": "stderr",
     "output_type": "stream",
     "text": [
      "100%|██████████| 150/150 [00:18<00:00,  8.23it/s]\n"
     ]
    },
    {
     "name": "stdout",
     "output_type": "stream",
     "text": [
      "150epochs-5latent\n"
     ]
    },
    {
     "name": "stderr",
     "output_type": "stream",
     "text": [
      "100%|██████████| 150/150 [00:18<00:00,  7.94it/s]\n"
     ]
    },
    {
     "name": "stdout",
     "output_type": "stream",
     "text": [
      "150epochs-15latent\n"
     ]
    },
    {
     "name": "stderr",
     "output_type": "stream",
     "text": [
      "100%|██████████| 150/150 [00:19<00:00,  7.74it/s]\n"
     ]
    },
    {
     "name": "stdout",
     "output_type": "stream",
     "text": [
      "100epochs-5latent\n"
     ]
    },
    {
     "name": "stderr",
     "output_type": "stream",
     "text": [
      "100%|██████████| 100/100 [00:11<00:00,  8.71it/s]\n",
      "  0%|          | 0/50 [00:00<?, ?it/s]"
     ]
    },
    {
     "name": "stdout",
     "output_type": "stream",
     "text": [
      "50epochs-10latent\n"
     ]
    },
    {
     "name": "stderr",
     "output_type": "stream",
     "text": [
      "100%|██████████| 50/50 [00:05<00:00,  8.69it/s]\n"
     ]
    }
   ],
   "source": [
    "def file_sorter(folder):\n",
    "    name = folder.rsplit(\"/\")[-1].split(\".\")[0]\n",
    "    print(name)\n",
    "    file_dict = {}\n",
    "    file_dict[\"name\"] = name\n",
    "    file_dict[\"training_history\"] = []\n",
    "    for root,folder,files in os.walk(folder):\n",
    "        files = [pjoin(root,f) for f in files]\n",
    "        for file in files:\n",
    "            if \"loss_stats.txt\" in file:\n",
    "                file_dict[\"loss_stats\"] = file\n",
    "            elif \"test_loss.txt\" in file:\n",
    "                file_dict[\"test_loss\"] = file\n",
    "            elif \"progress\" in file:\n",
    "                file_dict[\"training_history\"].append(file)\n",
    "            elif \".pickle\" in file:\n",
    "                file_dict[\"model\"] = file\n",
    "    file_dict[\"loss_stats\"] = loss_stats_parser(file_dict[\"loss_stats\"],test_file=file_dict[\"test_loss\"])\n",
    "    return file_dict\n",
    "\n",
    "def plot_loss(fs):\n",
    "    name = fs[\"name\"]\n",
    "    new_dir = f\"./plots/loss\"\n",
    "    if not os.path.isdir(new_dir):\n",
    "        os.makedirs(new_dir)\n",
    "    loss = fs[\"loss_stats\"][\"eff\"]\n",
    "    bce = fs[\"loss_stats\"][\"bce\"]\n",
    "    kld = fs[\"loss_stats\"][\"kld\"]\n",
    "    plt.figure(figsize=(8,8))\n",
    "    plt.title(f\"Loss for {name}\")\n",
    "    plt.xlabel(\"Epoch\")\n",
    "    plt.ylabel(\"Effective Loss\")\n",
    "    plt.plot(loss)\n",
    "#     plt.plot(bce)\n",
    "#     plt.plot(kld)\n",
    "    plt.savefig(new_dir+f\"/{name}-loss.png\")\n",
    "    plt.close()\n",
    "    \n",
    "    \n",
    "def plot_training(fs):\n",
    "    name = fs[\"name\"]\n",
    "    th_dir = f\"./plots/training_images/{name}\"\n",
    "    ifnotdir(th_dir)\n",
    "    th = sorted(fs[\"training_history\"])\n",
    "    for t in tqdm(th):\n",
    "        epoch = t.rsplit(\"/\",1)[-1].rsplit(\".\",1)[0]\n",
    "        data = []\n",
    "        recons = []\n",
    "        with open(t,\"rb\") as f:\n",
    "            while True:\n",
    "                try:\n",
    "                    orig, recon = pickle.load(f)\n",
    "                    data.append(orig)\n",
    "                    recons.append(recon)\n",
    "                except:\n",
    "                    data = torch.vstack(data)\n",
    "                    recons = torch.vstack(recons).reshape(-1,26,26)\n",
    "                    break\n",
    "        fig, (ax1,ax2) = plt.subplots(2,1,figsize=(12,8))\n",
    "        ax1.imshow(data[0])\n",
    "        ax2.imshow(recons[0])\n",
    "        plt.savefig(th_dir+f\"/{epoch}.png\")\n",
    "        plt.close()\n",
    "    \n",
    "for direct in model_dirs: \n",
    "    fs = file_sorter(direct)\n",
    "    plot_loss(fs)\n",
    "    plot_training(fs)\n",
    "    "
   ]
  },
  {
   "cell_type": "code",
   "execution_count": null,
   "id": "chubby-darkness",
   "metadata": {},
   "outputs": [],
   "source": []
  },
  {
   "cell_type": "code",
   "execution_count": 207,
   "id": "responsible-flexibility",
   "metadata": {},
   "outputs": [
    {
     "data": {
      "text/plain": [
       "<matplotlib.image.AxesImage at 0x7ff46c3d4710>"
      ]
     },
     "execution_count": 207,
     "metadata": {},
     "output_type": "execute_result"
    },
    {
     "data": {
      "image/png": "[encoded data removed]",
      "text/plain": [
       "<Figure size 864x576 with 2 Axes>"
      ]
     },
     "metadata": {
      "needs_background": "light"
     },
     "output_type": "display_data"
    }
   ],
   "source": [
    "fig, (ax1,ax2) = plt.subplots(2,1,figsize=(12,8))\n",
    "ax1.imshow(data[50])\n",
    "ax2.imshow(recons[50])"
   ]
  },
  {
   "cell_type": "code",
   "execution_count": 187,
   "id": "established-senate",
   "metadata": {},
   "outputs": [
    {
     "data": {
      "text/plain": [
       "torch.Size([26, 26])"
      ]
     },
     "execution_count": 187,
     "metadata": {},
     "output_type": "execute_result"
    }
   ],
   "source": [
    "recons[0].shape"
   ]
  },
  {
   "cell_type": "code",
   "execution_count": 143,
   "id": "accompanied-bracket",
   "metadata": {},
   "outputs": [
    {
     "data": {
      "text/plain": [
       "[<matplotlib.lines.Line2D at 0x7ff5098f7be0>]"
      ]
     },
     "execution_count": 143,
     "metadata": {},
     "output_type": "execute_result"
    },
    {
     "data": {
      "image/png": "[encoded data removed]",
      "text/plain": [
       "<Figure size 432x288 with 1 Axes>"
      ]
     },
     "metadata": {
      "needs_background": "light"
     },
     "output_type": "display_data"
    }
   ],
   "source": [
    "df = fs[\"loss_stats\"]\n",
    "df\n",
    "plt.plot(df[\"test\"])"
   ]
  },
  {
   "cell_type": "code",
   "execution_count": null,
   "id": "altered-statement",
   "metadata": {},
   "outputs": [],
   "source": []
  },
  {
   "cell_type": "code",
   "execution_count": 190,
   "id": "solved-participant",
   "metadata": {},
   "outputs": [
    {
     "data": {
      "text/plain": [
       "'50epochs-10latent'"
      ]
     },
     "execution_count": 190,
     "metadata": {},
     "output_type": "execute_result"
    }
   ],
   "source": [
    "fs[\"name\"]"
   ]
  },
  {
   "cell_type": "code",
   "execution_count": null,
   "id": "amazing-mediterranean",
   "metadata": {},
   "outputs": [],
   "source": [
    "nd = {}\n",
    "for i in range(0,9,2):\n",
    "    nd.setdefault()\n",
    "    nd[txt_ls[0].split()[i][:-1]].append(float(txt_ls[0].split()[i+1]))"
   ]
  },
  {
   "cell_type": "code",
   "execution_count": null,
   "id": "certified-atlanta",
   "metadata": {},
   "outputs": [],
   "source": [
    "nd"
   ]
  },
  {
   "cell_type": "code",
   "execution_count": null,
   "id": "assured-compatibility",
   "metadata": {},
   "outputs": [],
   "source": [
    "for i in range(1,10,2):\n",
    "    print(i)"
   ]
  },
  {
   "cell_type": "code",
   "execution_count": null,
   "id": "activated-little",
   "metadata": {},
   "outputs": [],
   "source": [
    "df"
   ]
  },
  {
   "cell_type": "code",
   "execution_count": 78,
   "id": "golden-drawing",
   "metadata": {},
   "outputs": [
    {
     "data": {
      "text/plain": [
       "True"
      ]
     },
     "execution_count": 78,
     "metadata": {},
     "output_type": "execute_result"
    }
   ],
   "source": []
  },
  {
   "cell_type": "code",
   "execution_count": 111,
   "id": "domestic-basement",
   "metadata": {},
   "outputs": [
    {
     "data": {
      "text/plain": [
       "array(['0', '1', '2', '3', '4', '5', '6', '7', '8', '9', '10', '11', '12',\n",
       "       '13', '14', '15', '16', '17', '18', '19', '20', '21', '22', '23',\n",
       "       '24', '25', '26', '27', '28', '29', '30', '31', '32', '33', '34',\n",
       "       '35', '36', '37', '38', '39', '40', '41', '42', '43', '44', '45',\n",
       "       '46', '47', '48', '49'], dtype='<U18')"
      ]
     },
     "execution_count": 111,
     "metadata": {},
     "output_type": "execute_result"
    }
   ],
   "source": [
    "np.array([t.split() for t in txt])[:,0]"
   ]
  },
  {
   "cell_type": "code",
   "execution_count": 189,
   "id": "hired-comparison",
   "metadata": {},
   "outputs": [
    {
     "ename": "NameError",
     "evalue": "name 'name' is not defined",
     "output_type": "error",
     "traceback": [
      "\u001b[0;31m---------------------------------------------------------------------------\u001b[0m",
      "\u001b[0;31mNameError\u001b[0m                                 Traceback (most recent call last)",
      "\u001b[0;32m<ipython-input-189-9bc0cb2ed6de>\u001b[0m in \u001b[0;36m<module>\u001b[0;34m\u001b[0m\n\u001b[0;32m----> 1\u001b[0;31m \u001b[0mname\u001b[0m\u001b[0;34m\u001b[0m\u001b[0;34m\u001b[0m\u001b[0m\n\u001b[0m",
      "\u001b[0;31mNameError\u001b[0m: name 'name' is not defined"
     ]
    }
   ],
   "source": [
    "name"
   ]
  },
  {
   "cell_type": "code",
   "execution_count": null,
   "id": "rational-astronomy",
   "metadata": {},
   "outputs": [],
   "source": []
  }
 ],
 "metadata": {
  "kernelspec": {
   "display_name": "Python 3",
   "language": "python",
   "name": "python3"
  },
  "language_info": {
   "codemirror_mode": {
    "name": "ipython",
    "version": 3
   },
   "file_extension": ".py",
   "mimetype": "text/x-python",
   "name": "python",
   "nbconvert_exporter": "python",
   "pygments_lexer": "ipython3",
   "version": "3.6.9"
  }
 },
 "nbformat": 4,
 "nbformat_minor": 5
}
